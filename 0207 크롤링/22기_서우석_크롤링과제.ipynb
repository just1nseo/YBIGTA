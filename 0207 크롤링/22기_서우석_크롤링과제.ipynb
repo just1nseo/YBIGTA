{
 "cells": [
  {
   "cell_type": "code",
   "execution_count": 1,
   "id": "a60bfeee",
   "metadata": {},
   "outputs": [],
   "source": [
    "import selenium\n",
    "from selenium import webdriver\n",
    "\n",
    "driver = webdriver.Chrome()"
   ]
  },
  {
   "cell_type": "code",
   "execution_count": 3,
   "id": "c3c0cfcf",
   "metadata": {},
   "outputs": [],
   "source": [
    "from selenium.webdriver.common.by import By\n",
    "from selenium.webdriver.common.keys import Keys\n",
    "\n",
    "# 해당 URL로 이동\n",
    "driver.get('https://www.naver.com/') \n",
    "\n",
    "# 웹 페이지 요소 로드를 기다림\n",
    "driver.implicitly_wait(5)"
   ]
  },
  {
   "cell_type": "code",
   "execution_count": 4,
   "id": "9af38428",
   "metadata": {},
   "outputs": [],
   "source": [
    "search = driver.find_element(By.XPATH, '//*[@id=\"query\"]')"
   ]
  },
  {
   "cell_type": "code",
   "execution_count": 5,
   "id": "9a95cfe0",
   "metadata": {},
   "outputs": [],
   "source": [
    "search.send_keys('고려대학교')"
   ]
  },
  {
   "cell_type": "code",
   "execution_count": 6,
   "id": "9f228c41",
   "metadata": {},
   "outputs": [],
   "source": [
    "search.send_keys(Keys.RETURN)"
   ]
  },
  {
   "cell_type": "code",
   "execution_count": 11,
   "id": "3c4af0d1",
   "metadata": {},
   "outputs": [],
   "source": [
    "img = driver.find_element(By.XPATH, '//*[@id=\"main_pack\"]/div[2]/div[2]/div[1]/div/div[2]/a/img')\n",
    "img_url = img.get_attribute('src')"
   ]
  },
  {
   "cell_type": "code",
   "execution_count": 8,
   "id": "0bb97799",
   "metadata": {},
   "outputs": [
    {
     "name": "stdout",
     "output_type": "stream",
     "text": [
      "https://search.pstatic.net/common?type=f&size=174x174&quality=100&direct=true&src=https%3A%2F%2Fldb-phinf.pstatic.net%2F20150831_102%2F1441001184354BvGxq_JPEG%2F11591498_0.jpg\n"
     ]
    }
   ],
   "source": [
    "print(img_url)"
   ]
  },
  {
   "cell_type": "code",
   "execution_count": 14,
   "id": "c9d53278",
   "metadata": {},
   "outputs": [],
   "source": [
    "import urllib.request\n",
    "from PIL import Image\n",
    "  \n",
    "urllib.request.urlretrieve(\n",
    "  'https://search.pstatic.net/common?type=f&size=174x174&quality=100&direct=true&src=https%3A%2F%2Fldb-phinf.pstatic.net%2F20150831_102%2F1441001184354BvGxq_JPEG%2F11591498_0.jpg',\n",
    "   \"ku.png\")\n",
    "  \n",
    "img = Image.open(\"ku.png\")\n",
    "img.show()"
   ]
  },
  {
   "cell_type": "code",
   "execution_count": null,
   "id": "f526abbd",
   "metadata": {},
   "outputs": [],
   "source": [
    "#해외여행 나와있어서 강의를 못 듣고 과제라도 급하게 해서 내느라 1번 과제는 해결하지 못했습니다 죄송합니다 ㅠ "
   ]
  }
 ],
 "metadata": {
  "kernelspec": {
   "display_name": "Python 3 (ipykernel)",
   "language": "python",
   "name": "python3"
  },
  "language_info": {
   "codemirror_mode": {
    "name": "ipython",
    "version": 3
   },
   "file_extension": ".py",
   "mimetype": "text/x-python",
   "name": "python",
   "nbconvert_exporter": "python",
   "pygments_lexer": "ipython3",
   "version": "3.9.12"
  }
 },
 "nbformat": 4,
 "nbformat_minor": 5
}
